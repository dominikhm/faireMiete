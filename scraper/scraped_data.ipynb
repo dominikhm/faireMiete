{
 "cells": [
  {
   "cell_type": "code",
   "execution_count": 20,
   "metadata": {},
   "outputs": [],
   "source": [
    "import pandas as pd\n",
    "import numpy as np"
   ]
  },
  {
   "cell_type": "code",
   "execution_count": 36,
   "metadata": {},
   "outputs": [],
   "source": [
    "df = pd.read_json (r'data.json')"
   ]
  },
  {
   "cell_type": "code",
   "execution_count": 28,
   "metadata": {},
   "outputs": [],
   "source": [
    "adr=df.iloc[0,1].split(',')\n",
    "adr1=x[0]\n",
    "hausnr=[int(s) for s in adr1.split() if s.isdigit()]\n",
    "strasse=''.join([i for i in w if not i.isdigit()])\n",
    "plz=x[1]\n",
    "plz=[int(s) for s in plz.split() if s.isdigit()]"
   ]
  },
  {
   "cell_type": "code",
   "execution_count": 38,
   "metadata": {},
   "outputs": [
    {
     "data": {
      "text/html": [
       "<div>\n",
       "<style scoped>\n",
       "    .dataframe tbody tr th:only-of-type {\n",
       "        vertical-align: middle;\n",
       "    }\n",
       "\n",
       "    .dataframe tbody tr th {\n",
       "        vertical-align: top;\n",
       "    }\n",
       "\n",
       "    .dataframe thead th {\n",
       "        text-align: right;\n",
       "    }\n",
       "</style>\n",
       "<table border=\"1\" class=\"dataframe\">\n",
       "  <thead>\n",
       "    <tr style=\"text-align: right;\">\n",
       "      <th></th>\n",
       "      <th>gültig von</th>\n",
       "      <th>gültig bis</th>\n",
       "      <th>EUR je m²</th>\n",
       "    </tr>\n",
       "  </thead>\n",
       "  <tbody>\n",
       "    <tr>\n",
       "      <th>0</th>\n",
       "      <td>01.04.2019</td>\n",
       "      <td></td>\n",
       "      <td>4,62</td>\n",
       "    </tr>\n",
       "    <tr>\n",
       "      <th>1</th>\n",
       "      <td>01.04.2017</td>\n",
       "      <td>31.03.2019</td>\n",
       "      <td>4,16</td>\n",
       "    </tr>\n",
       "    <tr>\n",
       "      <th>2</th>\n",
       "      <td>01.04.2014</td>\n",
       "      <td>31.03.2017</td>\n",
       "      <td>3,04</td>\n",
       "    </tr>\n",
       "    <tr>\n",
       "      <th>3</th>\n",
       "      <td>01.04.2012</td>\n",
       "      <td>31.03.2014</td>\n",
       "      <td>1,93</td>\n",
       "    </tr>\n",
       "    <tr>\n",
       "      <th>4</th>\n",
       "      <td>01.04.2010</td>\n",
       "      <td>31.03.2012</td>\n",
       "      <td>1,32</td>\n",
       "    </tr>\n",
       "    <tr>\n",
       "      <th>5</th>\n",
       "      <td>01.04.2008</td>\n",
       "      <td>31.03.2010</td>\n",
       "      <td>1,35</td>\n",
       "    </tr>\n",
       "    <tr>\n",
       "      <th>6</th>\n",
       "      <td>01.04.2007</td>\n",
       "      <td>31.03.2008</td>\n",
       "      <td>1,37</td>\n",
       "    </tr>\n",
       "    <tr>\n",
       "      <th>7</th>\n",
       "      <td>01.04.2006</td>\n",
       "      <td>31.03.2007</td>\n",
       "      <td>0,00</td>\n",
       "    </tr>\n",
       "    <tr>\n",
       "      <th>8</th>\n",
       "      <td>01.03.2005</td>\n",
       "      <td>31.03.2006</td>\n",
       "      <td>0,00</td>\n",
       "    </tr>\n",
       "    <tr>\n",
       "      <th>9</th>\n",
       "      <td>01.04.2004</td>\n",
       "      <td>28.02.2005</td>\n",
       "      <td>0,00</td>\n",
       "    </tr>\n",
       "    <tr>\n",
       "      <th>10</th>\n",
       "      <td>01.04.2003</td>\n",
       "      <td>31.03.2004</td>\n",
       "      <td>0,00</td>\n",
       "    </tr>\n",
       "    <tr>\n",
       "      <th>11</th>\n",
       "      <td>01.04.2002</td>\n",
       "      <td>31.03.2003</td>\n",
       "      <td>0,00</td>\n",
       "    </tr>\n",
       "    <tr>\n",
       "      <th>12</th>\n",
       "      <td>01.01.2002</td>\n",
       "      <td>31.03.2002</td>\n",
       "      <td>0,00</td>\n",
       "    </tr>\n",
       "    <tr>\n",
       "      <th>13</th>\n",
       "      <td>01.04.2001</td>\n",
       "      <td>31.12.2001</td>\n",
       "      <td>0,00</td>\n",
       "    </tr>\n",
       "    <tr>\n",
       "      <th>14</th>\n",
       "      <td>01.04.2000</td>\n",
       "      <td>31.03.2001</td>\n",
       "      <td>0,00</td>\n",
       "    </tr>\n",
       "    <tr>\n",
       "      <th>15</th>\n",
       "      <td>01.04.1999</td>\n",
       "      <td>31.03.2000</td>\n",
       "      <td>0,00</td>\n",
       "    </tr>\n",
       "    <tr>\n",
       "      <th>16</th>\n",
       "      <td>01.04.1998</td>\n",
       "      <td>31.03.1999</td>\n",
       "      <td>0,00</td>\n",
       "    </tr>\n",
       "    <tr>\n",
       "      <th>17</th>\n",
       "      <td>01.04.1997</td>\n",
       "      <td>31.03.1998</td>\n",
       "      <td>0,00</td>\n",
       "    </tr>\n",
       "    <tr>\n",
       "      <th>18</th>\n",
       "      <td>01.04.1996</td>\n",
       "      <td>31.03.1997</td>\n",
       "      <td>0,00</td>\n",
       "    </tr>\n",
       "    <tr>\n",
       "      <th>19</th>\n",
       "      <td>01.04.1995</td>\n",
       "      <td>31.03.1996</td>\n",
       "      <td>0,00</td>\n",
       "    </tr>\n",
       "    <tr>\n",
       "      <th>20</th>\n",
       "      <td>01.03.1994</td>\n",
       "      <td>31.03.1995</td>\n",
       "      <td>0,00</td>\n",
       "    </tr>\n",
       "  </tbody>\n",
       "</table>\n",
       "</div>"
      ],
      "text/plain": [
       "    gültig von  gültig bis EUR je m²\n",
       "0   01.04.2019                  4,62\n",
       "1   01.04.2017  31.03.2019      4,16\n",
       "2   01.04.2014  31.03.2017      3,04\n",
       "3   01.04.2012  31.03.2014      1,93\n",
       "4   01.04.2010  31.03.2012      1,32\n",
       "5   01.04.2008  31.03.2010      1,35\n",
       "6   01.04.2007  31.03.2008      1,37\n",
       "7   01.04.2006  31.03.2007      0,00\n",
       "8   01.03.2005  31.03.2006      0,00\n",
       "9   01.04.2004  28.02.2005      0,00\n",
       "10  01.04.2003  31.03.2004      0,00\n",
       "11  01.04.2002  31.03.2003      0,00\n",
       "12  01.01.2002  31.03.2002      0,00\n",
       "13  01.04.2001  31.12.2001      0,00\n",
       "14  01.04.2000  31.03.2001      0,00\n",
       "15  01.04.1999  31.03.2000      0,00\n",
       "16  01.04.1998  31.03.1999      0,00\n",
       "17  01.04.1997  31.03.1998      0,00\n",
       "18  01.04.1996  31.03.1997      0,00\n",
       "19  01.04.1995  31.03.1996      0,00\n",
       "20  01.03.1994  31.03.1995      0,00"
      ]
     },
     "execution_count": 38,
     "metadata": {},
     "output_type": "execute_result"
    }
   ],
   "source": [
    "df = pd.DataFrame.from_records(df.iloc[:,0])\n",
    "df"
   ]
  },
  {
   "cell_type": "code",
   "execution_count": 42,
   "metadata": {},
   "outputs": [
    {
     "data": {
      "text/plain": [
       "(4.16, 4.62)"
      ]
     },
     "execution_count": 42,
     "metadata": {},
     "output_type": "execute_result"
    }
   ],
   "source": [
    "alt = float(df.iloc[1,2].replace(',','.'))\n",
    "neu = float(df.iloc[0,2].replace(',','.'))\n",
    "alt, neu"
   ]
  },
  {
   "cell_type": "code",
   "execution_count": 46,
   "metadata": {},
   "outputs": [
    {
     "data": {
      "text/html": [
       "<div>\n",
       "<style scoped>\n",
       "    .dataframe tbody tr th:only-of-type {\n",
       "        vertical-align: middle;\n",
       "    }\n",
       "\n",
       "    .dataframe tbody tr th {\n",
       "        vertical-align: top;\n",
       "    }\n",
       "\n",
       "    .dataframe thead th {\n",
       "        text-align: right;\n",
       "    }\n",
       "</style>\n",
       "<table border=\"1\" class=\"dataframe\">\n",
       "  <thead>\n",
       "    <tr style=\"text-align: right;\">\n",
       "      <th></th>\n",
       "      <th>PLZ</th>\n",
       "      <th>Strasse</th>\n",
       "      <th>Hausnummer</th>\n",
       "      <th>Zuschlag_bis_0319</th>\n",
       "      <th>Zuschlag_seit_0419</th>\n",
       "      <th>Differenz</th>\n",
       "    </tr>\n",
       "  </thead>\n",
       "  <tbody>\n",
       "    <tr>\n",
       "      <th>0</th>\n",
       "      <td>1060</td>\n",
       "      <td>Gumpendorfer Straße</td>\n",
       "      <td>12</td>\n",
       "      <td>4.16</td>\n",
       "      <td>4.62</td>\n",
       "      <td>0.46</td>\n",
       "    </tr>\n",
       "  </tbody>\n",
       "</table>\n",
       "</div>"
      ],
      "text/plain": [
       "    PLZ               Strasse  Hausnummer  Zuschlag_bis_0319  \\\n",
       "0  1060  Gumpendorfer Straße           12               4.16   \n",
       "\n",
       "   Zuschlag_seit_0419  Differenz  \n",
       "0                4.62       0.46  "
      ]
     },
     "execution_count": 46,
     "metadata": {},
     "output_type": "execute_result"
    }
   ],
   "source": [
    "df1 = pd.DataFrame({'PLZ' : plz, 'Strasse' : strasse, 'Hausnummer' : hausnr, 'Zuschlag_bis_0319' : alt,'Zuschlag_seit_0419' : neu, 'Differenz' : round(neu - alt, 2)})\n",
    "df1"
   ]
  },
  {
   "cell_type": "code",
   "execution_count": 47,
   "metadata": {},
   "outputs": [],
   "source": [
    "df1.to_csv('zuschlag.csv', index=False)"
   ]
  },
  {
   "cell_type": "code",
   "execution_count": null,
   "metadata": {},
   "outputs": [],
   "source": []
  }
 ],
 "metadata": {
  "kernelspec": {
   "display_name": "Python 3",
   "language": "python",
   "name": "python3"
  },
  "language_info": {
   "codemirror_mode": {
    "name": "ipython",
    "version": 3
   },
   "file_extension": ".py",
   "mimetype": "text/x-python",
   "name": "python",
   "nbconvert_exporter": "python",
   "pygments_lexer": "ipython3",
   "version": "3.8.2"
  }
 },
 "nbformat": 4,
 "nbformat_minor": 4
}
