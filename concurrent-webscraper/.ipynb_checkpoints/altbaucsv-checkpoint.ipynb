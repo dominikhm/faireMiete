{
 "cells": [
  {
   "cell_type": "code",
   "execution_count": 1,
   "metadata": {},
   "outputs": [],
   "source": [
    "import os\n",
    "import pandas as pd\n",
    "import json\n",
    "import numpy as np"
   ]
  },
  {
   "cell_type": "code",
   "execution_count": 57,
   "metadata": {},
   "outputs": [
    {
     "data": {
      "text/html": [
       "<div>\n",
       "<style scoped>\n",
       "    .dataframe tbody tr th:only-of-type {\n",
       "        vertical-align: middle;\n",
       "    }\n",
       "\n",
       "    .dataframe tbody tr th {\n",
       "        vertical-align: top;\n",
       "    }\n",
       "\n",
       "    .dataframe thead th {\n",
       "        text-align: right;\n",
       "    }\n",
       "</style>\n",
       "<table border=\"1\" class=\"dataframe\">\n",
       "  <thead>\n",
       "    <tr style=\"text-align: right;\">\n",
       "      <th></th>\n",
       "      <th>Bezirk</th>\n",
       "      <th>Straße</th>\n",
       "      <th>Hausnummer</th>\n",
       "      <th>Zuschlag_bis_0319</th>\n",
       "      <th>Zuschlag_seit_0419</th>\n",
       "      <th>Differenz</th>\n",
       "    </tr>\n",
       "  </thead>\n",
       "  <tbody>\n",
       "    <tr>\n",
       "      <th>0</th>\n",
       "      <td>13</td>\n",
       "      <td>Gloriettegasse</td>\n",
       "      <td>13</td>\n",
       "      <td>3.34</td>\n",
       "      <td>3.63</td>\n",
       "      <td>0.29</td>\n",
       "    </tr>\n",
       "    <tr>\n",
       "      <th>1</th>\n",
       "      <td>13</td>\n",
       "      <td>Hofwiesengasse</td>\n",
       "      <td>46</td>\n",
       "      <td>2.18</td>\n",
       "      <td>2.48</td>\n",
       "      <td>0.30</td>\n",
       "    </tr>\n",
       "    <tr>\n",
       "      <th>2</th>\n",
       "      <td>13</td>\n",
       "      <td>Hofwiesengasse</td>\n",
       "      <td>48</td>\n",
       "      <td>2.18</td>\n",
       "      <td>2.48</td>\n",
       "      <td>0.30</td>\n",
       "    </tr>\n",
       "    <tr>\n",
       "      <th>3</th>\n",
       "      <td>13</td>\n",
       "      <td>Franz-Boos-Gasse</td>\n",
       "      <td>3</td>\n",
       "      <td>3.34</td>\n",
       "      <td>3.63</td>\n",
       "      <td>0.29</td>\n",
       "    </tr>\n",
       "    <tr>\n",
       "      <th>4</th>\n",
       "      <td>13</td>\n",
       "      <td>Franz-Boos-Gasse</td>\n",
       "      <td>1</td>\n",
       "      <td>3.34</td>\n",
       "      <td>3.63</td>\n",
       "      <td>0.29</td>\n",
       "    </tr>\n",
       "  </tbody>\n",
       "</table>\n",
       "</div>"
      ],
      "text/plain": [
       "   Bezirk             Straße Hausnummer  Zuschlag_bis_0319  \\\n",
       "0      13    Gloriettegasse          13               3.34   \n",
       "1      13    Hofwiesengasse          46               2.18   \n",
       "2      13    Hofwiesengasse          48               2.18   \n",
       "3      13  Franz-Boos-Gasse           3               3.34   \n",
       "4      13  Franz-Boos-Gasse           1               3.34   \n",
       "\n",
       "   Zuschlag_seit_0419  Differenz  \n",
       "0                3.63       0.29  \n",
       "1                2.48       0.30  \n",
       "2                2.48       0.30  \n",
       "3                3.63       0.29  \n",
       "4                3.63       0.29  "
      ]
     },
     "execution_count": 57,
     "metadata": {},
     "output_type": "execute_result"
    }
   ],
   "source": [
    "data = []\n",
    "colnames=['Bezirk', 'Straße', 'Hausnummer', 'Zuschlag_bis_0319', 'Zuschlag_seit_0419', 'Differenz']\n",
    "\n",
    "def text_num_split(item):\n",
    "    for index, letter in enumerate(item, 0):\n",
    "        if letter.isdigit():\n",
    "            return [item[:index],item[index:]]\n",
    "\n",
    "test=pd.read_csv('./Altbau_new.csv')\n",
    "\n",
    "for file in os.listdir(\"./\"):\n",
    "    if file.endswith(\"json\"):\n",
    "        f = open(file, \"r\") \n",
    "        df = json.load(f)\n",
    "\n",
    "        for i in range(len(df['zuschlag'])):\n",
    "            row=[\n",
    "                test[test['Adresse']==df['zuschlag'][i]['addr']].iloc[0,1],\n",
    "                text_num_split(df['zuschlag'][i]['addr'])[0],\n",
    "                text_num_split(df['zuschlag'][i]['addr'])[1],\n",
    "                float(df['zuschlag'][i]['zuschlag'][1]['EUR je m²'].replace(',','.')),\n",
    "                float(df['zuschlag'][i]['zuschlag'][0]['EUR je m²'].replace(',','.')),\n",
    "                round(float(df['zuschlag'][i]['zuschlag'][0]['EUR je m²'].replace(',','.')) - float(df['zuschlag'][i]['zuschlag'][1]['EUR je m²'].replace(',','.')), 2)\n",
    "            ]\n",
    "            data.append(row)\n",
    "    \n",
    "frame=pd.DataFrame(data, columns=colnames).sort_values(by=['Bezirk', 'Straße'])\n",
    "frame"
   ]
  },
  {
   "cell_type": "code",
   "execution_count": 62,
   "metadata": {},
   "outputs": [
    {
     "data": {
      "text/plain": [
       "19    4562\n",
       "13    3638\n",
       "12    3314\n",
       "18    3263\n",
       "16    3189\n",
       "10    2984\n",
       "3     2676\n",
       "17    2649\n",
       "15    2533\n",
       "14    2422\n",
       "2     2231\n",
       "5     1798\n",
       "9     1789\n",
       "7     1403\n",
       "4     1342\n",
       "6     1283\n",
       "1     1272\n",
       "8     1049\n",
       "11     850\n",
       "Name: Bezirk, dtype: int64"
      ]
     },
     "execution_count": 62,
     "metadata": {},
     "output_type": "execute_result"
    }
   ],
   "source": [
    "frame['Bezirk'].value_counts()"
   ]
  },
  {
   "cell_type": "code",
   "execution_count": 66,
   "metadata": {},
   "outputs": [],
   "source": [
    "frame.to_csv('./zuschläge.csv', index = False)"
   ]
  }
 ],
 "metadata": {
  "kernelspec": {
   "display_name": "Python 3",
   "language": "python",
   "name": "python3"
  },
  "language_info": {
   "codemirror_mode": {
    "name": "ipython",
    "version": 3
   },
   "file_extension": ".py",
   "mimetype": "text/x-python",
   "name": "python",
   "nbconvert_exporter": "python",
   "pygments_lexer": "ipython3",
   "version": "3.8.6"
  }
 },
 "nbformat": 4,
 "nbformat_minor": 4
}
